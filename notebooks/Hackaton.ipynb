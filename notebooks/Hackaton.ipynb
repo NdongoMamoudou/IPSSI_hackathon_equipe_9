{
 "cells": [
  {
   "cell_type": "code",
   "execution_count": null,
   "id": "de187c4c-02cc-4ff4-8b84-63aa586010f7",
   "metadata": {},
   "outputs": [],
   "source": [
    "import numpy as np\n",
    "import pandas as pd\n",
    "import plotly.express as px"
   ]
  },
  {
   "cell_type": "markdown",
   "id": "cbcd43a6-98d7-468c-aea2-238ed7122906",
   "metadata": {},
   "source": [
    "### dataset athlètes"
   ]
  },
  {
   "cell_type": "code",
   "execution_count": null,
   "id": "98b9a461-a0e9-432c-8c09-ba33d1ebd30e",
   "metadata": {},
   "outputs": [],
   "source": [
    "olympic_athlete = pd.read_json('./data/olympic_athletes.json')"
   ]
  },
  {
   "cell_type": "code",
   "execution_count": null,
   "id": "76986cd7-1e2b-4349-b3a4-6e5b9d2f7180",
   "metadata": {},
   "outputs": [],
   "source": [
    "olympic_athlete.head()"
   ]
  },
  {
   "cell_type": "code",
   "execution_count": null,
   "id": "da7afb23-6745-4c19-b6fb-9f90b18e44c0",
   "metadata": {},
   "outputs": [],
   "source": [
    "olympic_athlete.shape"
   ]
  },
  {
   "cell_type": "code",
   "execution_count": null,
   "id": "51735ffd-87d0-4a29-b1a5-0243a100b159",
   "metadata": {},
   "outputs": [],
   "source": [
    "olympic_athlete.isnull().sum()"
   ]
  },
  {
   "cell_type": "markdown",
   "id": "b71014a3-655c-42c8-8c5f-53788ee1bd5c",
   "metadata": {},
   "source": [
    "### dataset hôtes"
   ]
  },
  {
   "cell_type": "code",
   "execution_count": null,
   "id": "70f46b87-6950-488a-948e-47aebf48fad8",
   "metadata": {},
   "outputs": [],
   "source": [
    "olympic_hosts = pd.read_xml('./data/olympic_hosts.xml')"
   ]
  },
  {
   "cell_type": "code",
   "execution_count": null,
   "id": "7e027f94-c5cc-4009-9b87-7c2c9a6c7dba",
   "metadata": {},
   "outputs": [],
   "source": [
    "olympic_hosts.head()"
   ]
  },
  {
   "cell_type": "code",
   "execution_count": null,
   "id": "fcc46fdf-a923-47ad-8040-cecf487f28b2",
   "metadata": {},
   "outputs": [],
   "source": [
    "olympic_hosts.shape"
   ]
  },
  {
   "cell_type": "code",
   "execution_count": null,
   "id": "5514f166-3706-412b-a471-a66428310807",
   "metadata": {},
   "outputs": [],
   "source": [
    "olympic_hosts.columns"
   ]
  },
  {
   "cell_type": "code",
   "execution_count": null,
   "id": "0d8a4861-d57a-430e-86aa-9ed7746da74d",
   "metadata": {},
   "outputs": [],
   "source": [
    "olympic_hosts.drop(['index'], axis=1, inplace=True)\n",
    "olympic_hosts.columns"
   ]
  },
  {
   "cell_type": "code",
   "execution_count": null,
   "id": "9652932a-fdda-43be-8500-e7ee3d7df01f",
   "metadata": {},
   "outputs": [],
   "source": [
    "olympic_hosts.isnull().sum()"
   ]
  },
  {
   "cell_type": "markdown",
   "id": "6e5b2ec6-0fb6-4436-80e0-e15dcd320b70",
   "metadata": {},
   "source": [
    "### dataset médailles"
   ]
  },
  {
   "cell_type": "code",
   "execution_count": null,
   "id": "c144f782-996b-466d-943b-ba9ceb94be09",
   "metadata": {},
   "outputs": [],
   "source": [
    "olympic_medals = pd.read_excel('./data/olympic_medals.xlsx')"
   ]
  },
  {
   "cell_type": "code",
   "execution_count": null,
   "id": "0250b97e-49c7-4ba1-b6e5-9215f68bfcea",
   "metadata": {},
   "outputs": [],
   "source": [
    "olympic_medals.shape"
   ]
  },
  {
   "cell_type": "code",
   "execution_count": null,
   "id": "6b2df224-0138-482c-85b6-498d96a3a6c0",
   "metadata": {},
   "outputs": [],
   "source": [
    "olympic_medals.isnull().sum()"
   ]
  },
  {
   "cell_type": "code",
   "execution_count": null,
   "id": "e374d87e-d698-4dab-afbd-f6a97587dc20",
   "metadata": {},
   "outputs": [],
   "source": [
    "olympic_medals.duplicated().sum()"
   ]
  },
  {
   "cell_type": "code",
   "execution_count": null,
   "id": "f57d1794-cbe4-4a01-bf0a-ab8a71930404",
   "metadata": {},
   "outputs": [],
   "source": [
    "olympic_medals.columns"
   ]
  },
  {
   "cell_type": "code",
   "execution_count": null,
   "id": "69cb32e2-0ac8-4f6e-a021-9a2f26e3a774",
   "metadata": {},
   "outputs": [],
   "source": [
    "olympic_medals = olympic_medals.rename({'slug_game':'game_slug'},axis=1)\n",
    "olympic_medals.columns"
   ]
  },
  {
   "cell_type": "code",
   "execution_count": null,
   "id": "9d989c01-bdd4-457d-a358-2fdf195bd87d",
   "metadata": {},
   "outputs": [],
   "source": [
    "olympic_medals.loc[(olympic_medals.duplicated())]"
   ]
  },
  {
   "cell_type": "code",
   "execution_count": null,
   "id": "611310f9-342a-4cab-8ead-433b6fba70bc",
   "metadata": {},
   "outputs": [],
   "source": [
    "olympic_medals.loc[(olympic_medals.game_slug == 'paris-1900') & (olympic_medals.discipline_title == 'Polo')]"
   ]
  },
  {
   "cell_type": "code",
   "execution_count": null,
   "id": "9f0ac4ca-d235-4f47-9f64-bea890929386",
   "metadata": {},
   "outputs": [],
   "source": [
    "olympic_medals.loc[(olympic_medals.game_slug == 'london-1908') & (olympic_medals.discipline_title == 'Polo')]"
   ]
  },
  {
   "cell_type": "code",
   "execution_count": null,
   "id": "f0b87c2d-7045-4964-92a0-0aeb6cd3c84e",
   "metadata": {},
   "outputs": [],
   "source": [
    "olympic_medals.loc[(olympic_medals.game_slug == 'london-1908') & (olympic_medals.discipline_title == 'Hockey') & (olympic_medals.event_title == 'hockey men')] "
   ]
  },
  {
   "cell_type": "code",
   "execution_count": null,
   "id": "9165a9f7-33cd-478a-873f-c72df3ecefab",
   "metadata": {},
   "outputs": [],
   "source": [
    "olympic_medals.participant_title.unique()"
   ]
  },
  {
   "cell_type": "code",
   "execution_count": null,
   "id": "121eeb77-d672-4153-8dd2-889680368ea2",
   "metadata": {},
   "outputs": [],
   "source": [
    "olympic_medals.drop(['Unnamed: 0','participant_title', 'athlete_url'], axis=1, inplace=True)"
   ]
  },
  {
   "cell_type": "code",
   "execution_count": null,
   "id": "bc476633-5ce4-4d55-8816-0978136090eb",
   "metadata": {},
   "outputs": [],
   "source": [
    "olympic_medals.tail()"
   ]
  },
  {
   "cell_type": "markdown",
   "id": "bc207d21-ea7d-44d2-aeb3-6c68fedbd92b",
   "metadata": {},
   "source": [
    "### dataset résultats"
   ]
  },
  {
   "cell_type": "code",
   "execution_count": null,
   "id": "17b0bd89-9782-4f6d-92bb-d34631ecd0bc",
   "metadata": {},
   "outputs": [],
   "source": [
    "olympic_results = pd.read_html('./data/olympic_results.html')[0]"
   ]
  },
  {
   "cell_type": "code",
   "execution_count": null,
   "id": "e91c4f34-3ee6-47c4-866b-5fbb046acfb0",
   "metadata": {},
   "outputs": [],
   "source": [
    "olympic_results.head()"
   ]
  },
  {
   "cell_type": "code",
   "execution_count": null,
   "id": "951b70b4-cb64-42b2-9151-719d7395b84e",
   "metadata": {},
   "outputs": [],
   "source": [
    "olympic_results.shape"
   ]
  },
  {
   "cell_type": "code",
   "execution_count": null,
   "id": "3440f2b9-296d-4dda-9ea6-0e72479421c2",
   "metadata": {
    "scrolled": true
   },
   "outputs": [],
   "source": [
    "olympic_results.isnull().sum()"
   ]
  },
  {
   "cell_type": "code",
   "execution_count": null,
   "id": "28ebda93-f80a-4149-95cc-5dd903579e24",
   "metadata": {},
   "outputs": [],
   "source": [
    "olympic_results.duplicated().sum()"
   ]
  },
  {
   "cell_type": "code",
   "execution_count": null,
   "id": "642c4550-d030-46e2-a5c6-3fda7269b3cd",
   "metadata": {},
   "outputs": [],
   "source": [
    "olympic_results.loc[(olympic_results.duplicated())]"
   ]
  },
  {
   "cell_type": "code",
   "execution_count": null,
   "id": "8d520abe-5f65-46e0-88c1-62e34466c482",
   "metadata": {},
   "outputs": [],
   "source": [
    "olympic_results.value_unit.unique()"
   ]
  },
  {
   "cell_type": "code",
   "execution_count": null,
   "id": "6c297760-3af9-420f-90c1-80d7ec7bb83c",
   "metadata": {},
   "outputs": [],
   "source": [
    "olympic_results.value_type.unique()"
   ]
  },
  {
   "cell_type": "code",
   "execution_count": null,
   "id": "3fd4f073-4c7d-4469-8a6a-faf788024180",
   "metadata": {},
   "outputs": [],
   "source": [
    "olympic_results.drop(['Unnamed: 0', 'athlete_url'], axis=1, inplace=True)\n",
    "olympic_results = olympic_results.rename({'slug_game':'game_slug'},axis=1)\n",
    "olympic_results.columns"
   ]
  },
  {
   "cell_type": "markdown",
   "id": "6e22aad8-3fa2-4615-b439-559ed1033f48",
   "metadata": {},
   "source": [
    "### Traitements\n",
    "\n",
    "- utilisation du dataset `olympic_results` plus complet que `olympic_medals`\n",
    "- separation des données en deux dataset pour les jo d'hiver et d'été"
   ]
  },
  {
   "cell_type": "code",
   "execution_count": null,
   "id": "573f2675-9af6-4cfb-ae2f-6971f03d5ae1",
   "metadata": {},
   "outputs": [],
   "source": [
    "jo_types = olympic_hosts[['game_slug','game_season', 'game_year']]"
   ]
  },
  {
   "cell_type": "code",
   "execution_count": null,
   "id": "b8678932-a93b-4fe3-8cfc-e3b04c86a942",
   "metadata": {},
   "outputs": [],
   "source": [
    "hosts_results_merge = olympic_results.merge(jo_types, on='game_slug')\n",
    "hosts_results_merge.head()"
   ]
  },
  {
   "cell_type": "code",
   "execution_count": null,
   "id": "37d639d7-55d3-41e6-9361-40f17b5d3546",
   "metadata": {},
   "outputs": [],
   "source": [
    "hosts_results_merge.shape"
   ]
  },
  {
   "cell_type": "code",
   "execution_count": null,
   "id": "f406f8f2-0e86-4389-bbc3-1a7082cafc1e",
   "metadata": {},
   "outputs": [],
   "source": [
    "hosts_results_merge.game_season.unique()"
   ]
  },
  {
   "cell_type": "code",
   "execution_count": null,
   "id": "b9f0ce86-4895-47b4-be00-1aa1535e0b8c",
   "metadata": {},
   "outputs": [],
   "source": [
    "summer_games_results = hosts_results_merge.loc[(hosts_results_merge.game_season == 'Summer')].copy()\n",
    "winter_games_results = hosts_results_merge.loc[(hosts_results_merge.game_season == 'Winter')].copy()"
   ]
  },
  {
   "cell_type": "code",
   "execution_count": null,
   "id": "e9e8d190-72e8-40fc-b995-1b6a9b46533c",
   "metadata": {},
   "outputs": [],
   "source": [
    "summer_games_results.drop(['game_season'], axis=1, inplace=True)\n",
    "summer_games_results.head()"
   ]
  },
  {
   "cell_type": "code",
   "execution_count": null,
   "id": "fda791b4-4687-4c02-8358-51356445768b",
   "metadata": {},
   "outputs": [],
   "source": [
    "summer_games_results.shape"
   ]
  },
  {
   "cell_type": "code",
   "execution_count": null,
   "id": "2a22fa0e-eb91-429a-9661-e123f10aabf2",
   "metadata": {
    "scrolled": true
   },
   "outputs": [],
   "source": [
    "summer_games_results.isnull().sum()"
   ]
  },
  {
   "cell_type": "code",
   "execution_count": null,
   "id": "ab87399e-d275-45aa-8403-e92f61577326",
   "metadata": {},
   "outputs": [],
   "source": [
    "summer_games_results.duplicated().sum()"
   ]
  },
  {
   "cell_type": "code",
   "execution_count": null,
   "id": "c90c918d-5134-48ee-bdb9-4343cce11b79",
   "metadata": {
    "scrolled": true
   },
   "outputs": [],
   "source": [
    "dopplers = summer_games_results.loc[(summer_games_results.duplicated())]\n",
    "dopplers"
   ]
  },
  {
   "cell_type": "markdown",
   "id": "dbe94d7f-8695-4faa-bf01-dd78c9ca1529",
   "metadata": {},
   "source": [
    "- calcul du cumul de chaque type de médailles par jo par pays"
   ]
  },
  {
   "cell_type": "code",
   "execution_count": null,
   "id": "7b8a37b5-b3a2-46eb-8c29-8b4d7073feb6",
   "metadata": {},
   "outputs": [],
   "source": [
    "summer_games_results.medal_type.unique()"
   ]
  },
  {
   "cell_type": "code",
   "execution_count": null,
   "id": "dca8f281-3059-4b75-9cf7-dc11f080f51b",
   "metadata": {},
   "outputs": [],
   "source": [
    "summer_games_results['medal_type'] = summer_games_results['medal_type'].fillna('None')"
   ]
  },
  {
   "cell_type": "code",
   "execution_count": null,
   "id": "b1d6dbb3-90c9-467a-a948-98573b2fe3a2",
   "metadata": {
    "scrolled": true
   },
   "outputs": [],
   "source": [
    "summer_games_results['total_medals'] = summer_games_results['medal_type'].apply(lambda x: 0 if x == 'None' else 1)\n",
    "summer_games_results['gold_medals'] = summer_games_results['medal_type'].apply(lambda x: 1 if x == 'GOLD' else 0)\n",
    "summer_games_results['silver_medals'] = summer_games_results['medal_type'].apply(lambda x: 1 if x == 'SILVER' else 0)\n",
    "summer_games_results['bronze_medals'] = summer_games_results['medal_type'].apply(lambda x: 1 if x == 'BRONZE' else 0)"
   ]
  },
  {
   "cell_type": "code",
   "execution_count": null,
   "id": "7db4214c-ac69-4dfc-9925-3a0ee361dd5a",
   "metadata": {},
   "outputs": [],
   "source": [
    "summer_games_results"
   ]
  },
  {
   "cell_type": "code",
   "execution_count": null,
   "id": "76c51279-5591-4dc6-870c-458e76f86817",
   "metadata": {},
   "outputs": [],
   "source": [
    "summer_games_results.country_name.unique()"
   ]
  },
  {
   "cell_type": "code",
   "execution_count": null,
   "id": "0be728a6-6c7f-407d-bee9-fa32f1fb9c29",
   "metadata": {},
   "outputs": [],
   "source": [
    "historic_medalsbycountry = summer_games_results.groupby(['game_year','country_name']).agg({'total_medals':'sum', 'gold_medals':'sum', 'silver_medals':'sum','bronze_medals':'sum'})"
   ]
  },
  {
   "cell_type": "code",
   "execution_count": null,
   "id": "caef95a0-e2c1-48e4-b0b8-435b2a7b4db0",
   "metadata": {},
   "outputs": [],
   "source": [
    "historic_medalsbycountry = historic_medalsbycountry.sort_values(by=['game_year','total_medals'],ascending=[True, False]).reset_index()"
   ]
  },
  {
   "cell_type": "code",
   "execution_count": null,
   "id": "0663bd80-eb71-44b1-aeba-b5a932eac889",
   "metadata": {},
   "outputs": [],
   "source": [
    "historic_medalsbycountry"
   ]
  },
  {
   "cell_type": "markdown",
   "id": "e21dcd93-66b8-452f-b54d-8abc11136e25",
   "metadata": {},
   "source": [
    "- calcul du nombre de disciplines et d'epreuves disputées par jo par pays"
   ]
  },
  {
   "cell_type": "code",
   "execution_count": null,
   "id": "a02e08d0-b786-4097-b80c-4ca50175c73f",
   "metadata": {},
   "outputs": [],
   "source": [
    "historic_sportsbycountry = summer_games_results.groupby(['game_year','country_name','discipline_title']).count()\n",
    "historic_sportsbycountry"
   ]
  },
  {
   "cell_type": "code",
   "execution_count": null,
   "id": "1deea477-4f44-43cb-90d8-48ef456548dd",
   "metadata": {},
   "outputs": [],
   "source": [
    "historic_sportsbycountry = historic_sportsbycountry[['event_title']].reset_index()\n",
    "historic_sportsbycountry = historic_sportsbycountry.rename({'discipline_title':'sports', 'event_title':'epreuves'},axis=1)\n",
    "historic_sportsbycountry"
   ]
  },
  {
   "cell_type": "code",
   "execution_count": null,
   "id": "f47922ce-3c5f-4fe3-aa64-c616ed9424e5",
   "metadata": {},
   "outputs": [],
   "source": [
    "historic_sportsbycountry = historic_sportsbycountry.groupby(['game_year','country_name']).agg({'sports':'count'})"
   ]
  },
  {
   "cell_type": "code",
   "execution_count": null,
   "id": "c164aa8f-a20f-4426-b176-ca1a677c71a1",
   "metadata": {},
   "outputs": [],
   "source": [
    "historic_sportsbycountry = historic_sportsbycountry.reset_index()\n",
    "historic_sportsbycountry"
   ]
  },
  {
   "cell_type": "code",
   "execution_count": null,
   "id": "710598b0-78c5-4292-9512-0131ae2ec664",
   "metadata": {},
   "outputs": [],
   "source": [
    "historic_epreuvesbycountry = summer_games_results.groupby(['game_year','country_name','event_title']).count()\n",
    "historic_epreuvesbycountry"
   ]
  },
  {
   "cell_type": "code",
   "execution_count": null,
   "id": "ed2ee3d9-e771-4f79-827c-cd79d2923330",
   "metadata": {},
   "outputs": [],
   "source": [
    "\n",
    "historic_epreuvesbycountry = historic_epreuvesbycountry[['discipline_title']].reset_index()\n",
    "historic_epreuvesbycountry = historic_epreuvesbycountry.rename({'event_title':'epreuves', 'discipline_title':'participation'},axis=1)\n",
    "historic_epreuvesbycountry = historic_epreuvesbycountry.groupby(['game_year','country_name']).agg({'epreuves':'count'})\n",
    "historic_epreuvesbycountry = historic_epreuvesbycountry.reset_index()\n",
    "historic_epreuvesbycountry"
   ]
  },
  {
   "cell_type": "code",
   "execution_count": null,
   "id": "c13c1996-8d10-4156-9fe8-1250226c49a2",
   "metadata": {},
   "outputs": [],
   "source": [
    "historic_olympic_data = historic_medalsbycountry.merge(historic_sportsbycountry, on=['game_year','country_name'])\n",
    "historic_olympic_data = historic_olympic_data.merge(historic_epreuvesbycountry, on=['game_year','country_name'])\n",
    "historic_olympic_data = historic_olympic_data.sort_values(by=['game_year','total_medals'],ascending=[True, False])\n",
    "historic_olympic_data"
   ]
  },
  {
   "cell_type": "markdown",
   "id": "29192cb1-2d07-486a-847f-1481f1f4511d",
   "metadata": {},
   "source": [
    "### Petite analyse story telling : classement des pays par JO en termes de total de médaille gagnés"
   ]
  },
  {
   "cell_type": "code",
   "execution_count": null,
   "id": "8020ea97-2240-4756-baee-d0b10bd0873c",
   "metadata": {},
   "outputs": [],
   "source": [
    "historic_olympic_data.game_year.dtype"
   ]
  },
  {
   "cell_type": "code",
   "execution_count": null,
   "id": "f0ded8a2-0214-4475-8080-188b23da4d33",
   "metadata": {},
   "outputs": [],
   "source": [
    "historic_olympic_data.game_year.unique()"
   ]
  },
  {
   "cell_type": "code",
   "execution_count": null,
   "id": "03276ad8-5093-42a3-b429-5d4d6d6f2824",
   "metadata": {},
   "outputs": [],
   "source": [
    "historic_olympic_data.country_name.unique()"
   ]
  },
  {
   "cell_type": "code",
   "execution_count": null,
   "id": "80500a4c-fd9b-4544-9140-6aab88f40b5a",
   "metadata": {},
   "outputs": [],
   "source": [
    "historic_olympic_data.loc[(historic_olympic_data.country_name=='German Democratic Republic (Germany)')]"
   ]
  },
  {
   "cell_type": "code",
   "execution_count": null,
   "id": "6b1a55a6-65bf-4761-9c51-39eb465111ad",
   "metadata": {},
   "outputs": [],
   "source": [
    "historic_olympic_data.loc[(historic_olympic_data.country_name=='ROC')]\n",
    "#historic_olympic_data.loc[(historic_olympic_data.game_year==1896)]"
   ]
  },
  {
   "cell_type": "code",
   "execution_count": null,
   "id": "0b736680-3943-4f4c-94db-b95a29a75219",
   "metadata": {},
   "outputs": [],
   "source": [
    "historic_olympic_data.loc[(historic_olympic_data.country_name=='Unified Team')]"
   ]
  },
  {
   "cell_type": "code",
   "execution_count": null,
   "id": "335a8d24-3e5f-4cf6-aeb3-fb62a54021dd",
   "metadata": {
    "scrolled": true
   },
   "outputs": [],
   "source": [
    "historic_olympic_data.loc[(historic_olympic_data.game_year==1992)]['country_name'].unique()"
   ]
  },
  {
   "cell_type": "code",
   "execution_count": null,
   "id": "252eec32-da0e-4d4d-a4da-5a2e8ca1bf78",
   "metadata": {},
   "outputs": [],
   "source": [
    "fig = px.bar(historic_olympic_data, \n",
    "             x=\"country_name\", \n",
    "             y=\"total_medals\", \n",
    "             animation_frame=\"game_year\", \n",
    "             hover_name=\"country_name\")\n",
    "\n",
    "fig.update_layout(\n",
    "        title=\"Country ranked on Total medals since 1896\",\n",
    "        xaxis_title=\"Country\",\n",
    "        yaxis_title=\"Total medals\",\n",
    "        showlegend=False)"
   ]
  },
  {
   "cell_type": "markdown",
   "id": "ac34d6c1-d73d-4d5d-83c6-bf044ca56406",
   "metadata": {},
   "source": [
    "### La même sur les 30 premiers pays par JO"
   ]
  },
  {
   "cell_type": "code",
   "execution_count": null,
   "id": "9fddec69-54d0-4203-856e-f72ceb0906e7",
   "metadata": {},
   "outputs": [],
   "source": [
    "df_top30 = historic_olympic_data.loc[(historic_olympic_data.game_year==1896)].head(30)\n",
    "for year in [1900, 1904, 1908, 1912, 1920, 1924, 1928, 1932, 1936, 1948,\n",
    "       1952, 1956, 1960, 1964, 1968, 1972, 1976, 1980, 1984, 1988, 1992,\n",
    "       1996, 2000, 2004, 2008, 2012, 2016, 2020]:\n",
    "    df_temp = historic_olympic_data.loc[(historic_olympic_data.game_year==year)].head(30)\n",
    "    df_top30 = pd.concat([df_top30, df_temp], ignore_index=True)\n"
   ]
  },
  {
   "cell_type": "code",
   "execution_count": null,
   "id": "536b7f6e-ac8e-46b1-af3a-aa5e74244040",
   "metadata": {},
   "outputs": [],
   "source": [
    "fig = px.bar(df_top30, \n",
    "             x=\"country_name\", \n",
    "             y=\"total_medals\", \n",
    "             animation_frame=\"game_year\", \n",
    "             hover_name=\"country_name\")\n",
    "\n",
    "fig.update_layout(\n",
    "        title=\"Top 30 country on Total medals since 1896\",\n",
    "        xaxis_title=\"Country\",\n",
    "        yaxis_title=\"Total medals\",\n",
    "        showlegend=False)"
   ]
  },
  {
   "cell_type": "markdown",
   "id": "c935b03a-9a57-4897-b27a-3ad0ecb9c12c",
   "metadata": {},
   "source": [
    "### Traitements : Constitution d'un set d'entrainement pour faire de la regression\n",
    "\n",
    "- je repars de `summer_games_results` pour créer des colonnes contenant le nombre de participation au JO (à l'instant t), et le nombres de médailles gagnées aux JO précedents (t-1) pour chaque pays et chaque JO\n",
    "- je merge les résultats avec `historic_olympic_data`"
   ]
  },
  {
   "cell_type": "code",
   "execution_count": null,
   "id": "9995ce45-51cd-4c91-873f-158dba22d704",
   "metadata": {},
   "outputs": [],
   "source": [
    "game_part = summer_games_results.groupby(['country_name','game_year']).agg({'total_medals':'sum', 'gold_medals':'sum', 'silver_medals':'sum','bronze_medals':'sum'})\n",
    "game_part"
   ]
  },
  {
   "cell_type": "code",
   "execution_count": null,
   "id": "4d46965f-8e11-4f87-b5e7-eb41f7a9f762",
   "metadata": {
    "scrolled": true
   },
   "outputs": [],
   "source": [
    "game_p = game_part.reset_index()\n",
    "game_p_france = game_p.loc[(game_p.country_name=='France')]\n",
    "game_p_france"
   ]
  },
  {
   "cell_type": "code",
   "execution_count": null,
   "id": "98f109b9-2c73-425c-918f-49d2986ef8ba",
   "metadata": {},
   "outputs": [],
   "source": [
    "import warnings\n",
    "warnings.filterwarnings('ignore')"
   ]
  },
  {
   "cell_type": "code",
   "execution_count": null,
   "id": "efb7ac99-862b-4bc4-97dd-c072bf39b13b",
   "metadata": {
    "scrolled": true
   },
   "outputs": [],
   "source": [
    "game_p_france = game_p.loc[(game_p.country_name=='France')]\n",
    "game_p_france['game_part'] = range(0, game_p_france.shape[0])\n",
    "game_p_france['prec_game_medal'] = game_p_france['total_medals'].shift(1, fill_value=0)\n",
    "game_p_france['prec_game_gold'] = game_p_france['gold_medals'].shift(1, fill_value=0)\n",
    "game_p_france['prec_game_silver'] = game_p_france['silver_medals'].shift(1, fill_value=0)\n",
    "game_p_france['prec_game_bronze'] = game_p_france['bronze_medals'].shift(1, fill_value=0)\n",
    "#game_p_france['total_game_medal'] = 0\n",
    "#game_p_france['total_game_medal'] = game_p_france['total_game_medal'].shift(1, fill_value=0) + game_p_france['total_medals'].shift(1, fill_value=0)\n",
    "#game_p_france['prec_game_medal'].shift(1, fill_value=0) + game_p_france['prec_game_medal'].shift(2, fill_value=0)\n",
    "game_p_france"
   ]
  },
  {
   "cell_type": "code",
   "execution_count": null,
   "id": "b7ff343c-6195-4e67-9a5c-d5e5463274f2",
   "metadata": {
    "scrolled": true
   },
   "outputs": [],
   "source": [
    "game_p"
   ]
  },
  {
   "cell_type": "code",
   "execution_count": null,
   "id": "145bdc76-3a47-41b4-b15d-858d1890c36d",
   "metadata": {},
   "outputs": [],
   "source": [
    "liste_country = list(game_p.country_name.unique())\n",
    "liste_country.remove('France')\n",
    "liste_country"
   ]
  },
  {
   "cell_type": "code",
   "execution_count": null,
   "id": "e873a10b-82b2-49d4-8ec9-1384e7fc7d1f",
   "metadata": {},
   "outputs": [],
   "source": [
    "for country in liste_country:\n",
    "    game_p_temp = game_p.loc[(game_p.country_name==country)]\n",
    "    game_p_temp['game_part'] = range(0, game_p_temp.shape[0])\n",
    "    game_p_temp['prec_game_medal'] = game_p_temp['total_medals'].shift(1, fill_value=0)\n",
    "    game_p_temp['prec_game_gold'] = game_p_temp['gold_medals'].shift(1, fill_value=0)\n",
    "    game_p_temp['prec_game_silver'] = game_p_temp['silver_medals'].shift(1, fill_value=0)\n",
    "    game_p_temp['prec_game_bronze'] = game_p_temp['bronze_medals'].shift(1, fill_value=0)\n",
    "    game_p_france = pd.concat([game_p_france,game_p_temp])"
   ]
  },
  {
   "cell_type": "code",
   "execution_count": null,
   "id": "0759c348-31fc-418a-a6d5-f3bd26e064c8",
   "metadata": {},
   "outputs": [],
   "source": [
    "game_p_france.columns"
   ]
  },
  {
   "cell_type": "code",
   "execution_count": null,
   "id": "62f2e8c8-c008-475d-baba-10e2d277302a",
   "metadata": {},
   "outputs": [],
   "source": [
    "game_p_france = game_p_france[['game_year', 'country_name', 'total_medals', 'gold_medals', 'silver_medals', 'bronze_medals', 'game_part', 'prec_game_medal', 'prec_game_gold', 'prec_game_silver', 'prec_game_bronze']]"
   ]
  },
  {
   "cell_type": "code",
   "execution_count": null,
   "id": "b2098299-13ea-4551-805b-42d8db243f23",
   "metadata": {},
   "outputs": [],
   "source": [
    "game_p_france = game_p_france.sort_values(by=['game_year','total_medals'],ascending=[True, False])\n",
    "game_p_france"
   ]
  },
  {
   "cell_type": "code",
   "execution_count": null,
   "id": "4e81dc60-649a-4ea7-b296-d908aca04f70",
   "metadata": {},
   "outputs": [],
   "source": [
    "game_p_france = game_p_france[['game_year', 'country_name', 'game_part', 'prec_game_medal', 'prec_game_gold', 'prec_game_silver', 'prec_game_bronze']]\n",
    "game_p_france"
   ]
  },
  {
   "cell_type": "code",
   "execution_count": null,
   "id": "d8935331-babe-46f5-a834-ef0f6771023b",
   "metadata": {},
   "outputs": [],
   "source": [
    "historic_olympic_data = pd.merge(historic_olympic_data, game_p_france, on=['game_year','country_name'])\n"
   ]
  },
  {
   "cell_type": "code",
   "execution_count": null,
   "id": "c0c6d916-d597-42c1-b4d1-05c81f46bccd",
   "metadata": {},
   "outputs": [],
   "source": [
    "historic_olympic_data = historic_olympic_data.sort_values(by=['game_year','total_medals'],ascending=[True, False])"
   ]
  },
  {
   "cell_type": "markdown",
   "id": "142c1751-9ebb-4c5c-8cc4-232dab2261b0",
   "metadata": {},
   "source": [
    "### Separation des données en set d'entrainement (tout avant 2020) et de test (JO 2020)"
   ]
  },
  {
   "cell_type": "code",
   "execution_count": null,
   "id": "995dbc1f-6766-487c-90e7-9b39d1bf8558",
   "metadata": {},
   "outputs": [],
   "source": [
    "# Tambouille pour encoder la colonne country_name\n",
    "liste_pays = list(historic_olympic_data.country_name.unique())\n",
    "dict_pays = {}\n",
    "for pays in enumerate(liste_pays):\n",
    "    dict_pays[pays[1]] = pays[0]"
   ]
  },
  {
   "cell_type": "code",
   "execution_count": null,
   "id": "37571886-3221-4dab-a85d-9109707398c5",
   "metadata": {},
   "outputs": [],
   "source": [
    "dict_pays"
   ]
  },
  {
   "cell_type": "code",
   "execution_count": null,
   "id": "46857de3-baba-47b1-a366-889b0454a5eb",
   "metadata": {},
   "outputs": [],
   "source": [
    "data_all_train = historic_olympic_data.loc[(historic_olympic_data.game_year < 2020)]\n",
    "data_all_test = historic_olympic_data.loc[(historic_olympic_data.game_year == 2020)]"
   ]
  },
  {
   "cell_type": "code",
   "execution_count": null,
   "id": "8bb6d5cd-536b-4224-b00d-c731e202c7cd",
   "metadata": {},
   "outputs": [],
   "source": [
    "X_all_train = data_all_train[['country_name', 'sports', 'epreuves', 'game_part', 'prec_game_medal', 'prec_game_gold', 'prec_game_silver', 'prec_game_bronze']]\n",
    "X_all_test = data_all_test[['country_name', 'sports', 'epreuves', 'game_part', 'prec_game_medal', 'prec_game_gold', 'prec_game_silver', 'prec_game_bronze']]\n",
    "\n",
    "y_all_total_train = data_all_train['total_medals']\n",
    "y_all_gold_train = data_all_train['gold_medals']\n",
    "y_all_silver_train = data_all_train['silver_medals']\n",
    "y_all_bronze_train = data_all_train['bronze_medals']\n",
    "\n",
    "y_all_total_test = data_all_test['total_medals']\n",
    "y_all_gold_test = data_all_test['gold_medals']\n",
    "y_all_silver_test = data_all_test['silver_medals']\n",
    "y_all_bronze_test = data_all_test['bronze_medals']"
   ]
  },
  {
   "cell_type": "code",
   "execution_count": null,
   "id": "0dcfbe9d-2a9e-423a-b12e-c8cb6ad1e380",
   "metadata": {},
   "outputs": [],
   "source": [
    "# Encodage des pays\n",
    "X_all_train = X_all_train.replace(dict_pays)\n",
    "X_all_test = X_all_test.replace(dict_pays)"
   ]
  },
  {
   "cell_type": "markdown",
   "id": "7ed73de0-5a3e-481a-9f51-8b2262624528",
   "metadata": {},
   "source": [
    "### Entrainement et evaluation modèles de regression pour le total de médaille par pays"
   ]
  },
  {
   "cell_type": "code",
   "execution_count": null,
   "id": "9261c3cc-b4ad-4db6-8f9c-46fb4ba7c720",
   "metadata": {},
   "outputs": [],
   "source": [
    "from sklearn.linear_model import LinearRegression\n",
    "from sklearn.metrics import mean_squared_error, r2_score"
   ]
  },
  {
   "cell_type": "code",
   "execution_count": null,
   "id": "37f09855-7716-4e7a-a9ca-8b1a7d0f9cb2",
   "metadata": {},
   "outputs": [],
   "source": [
    "model = LinearRegression()\n",
    "model.fit(X_all_train, y_all_total_train)"
   ]
  },
  {
   "cell_type": "code",
   "execution_count": null,
   "id": "a6373fce-0a18-4951-8a78-f394d638ad6c",
   "metadata": {},
   "outputs": [],
   "source": [
    "predictions = model.predict(X_all_test)\n",
    "\n",
    "print('Predicted labels : ', np.round(predictions)[:10])\n",
    "print('Actual labels : ' , y_all_total_test[:10])"
   ]
  },
  {
   "cell_type": "code",
   "execution_count": null,
   "id": "76a09657-8af0-4d35-9a35-ff483ce1108e",
   "metadata": {},
   "outputs": [],
   "source": [
    "mse = mean_squared_error(y_all_total_test, predictions)\n",
    "print(\"MSE:\", mse)\n",
    "\n",
    "rmse = np.sqrt(mse)\n",
    "print(\"RMSE:\", rmse)\n",
    "\n",
    "r2 = r2_score(y_all_total_test, predictions)\n",
    "print(\"R2:\", r2)"
   ]
  },
  {
   "cell_type": "code",
   "execution_count": null,
   "id": "30b0c340-66e9-4d0e-b964-c8610541ad56",
   "metadata": {},
   "outputs": [],
   "source": [
    "result_df_2020_total_medals = pd.DataFrame({'pays': data_all_test['country_name'],'reglog_total_medals_pred':np.round(predictions),'total_medals_truth':data_all_test['total_medals']})"
   ]
  },
  {
   "cell_type": "code",
   "execution_count": null,
   "id": "01a2371f-7044-40dd-af29-321f6165a851",
   "metadata": {},
   "outputs": [],
   "source": [
    "pd.set_option('display.max_rows', None)"
   ]
  },
  {
   "cell_type": "code",
   "execution_count": null,
   "id": "bad903ae-5375-4da1-bd57-786d6eb2c56b",
   "metadata": {},
   "outputs": [],
   "source": [
    "result_df_2020_total_medals"
   ]
  },
  {
   "cell_type": "code",
   "execution_count": null,
   "id": "30cf7cd5-7cd1-434f-9e0d-07a667c59925",
   "metadata": {},
   "outputs": [],
   "source": [
    "from sklearn.tree import DecisionTreeRegressor\n",
    "\n",
    "model_1 = DecisionTreeRegressor()\n",
    "model_1.fit(X_all_train, y_all_total_train)"
   ]
  },
  {
   "cell_type": "code",
   "execution_count": null,
   "id": "18965595-e30f-4d1d-9415-8d42a9080ed5",
   "metadata": {},
   "outputs": [],
   "source": [
    "predictions_1 = model_1.predict(X_all_test)\n",
    "\n",
    "print('Predicted labels : ', np.round(predictions_1)[:10])\n",
    "print('Actual labels : ' , y_all_total_test[:10])"
   ]
  },
  {
   "cell_type": "code",
   "execution_count": null,
   "id": "a0c51f2d-0096-405d-ac05-4fda0edd7e63",
   "metadata": {},
   "outputs": [],
   "source": [
    "mse = mean_squared_error(y_all_total_test, predictions_1)\n",
    "print(\"MSE:\", mse)\n",
    "\n",
    "rmse = np.sqrt(mse)\n",
    "print(\"RMSE:\", rmse)\n",
    "\n",
    "r2 = r2_score(y_all_total_test, predictions_1)\n",
    "print(\"R2:\", r2)"
   ]
  },
  {
   "cell_type": "code",
   "execution_count": null,
   "id": "badfdbe3-6697-4e67-8773-7781c239fcea",
   "metadata": {},
   "outputs": [],
   "source": [
    "result_df_2020_total_medals['tree_total_medals_pred'] = np.round(predictions_1)\n",
    "result_df_2020_total_medals"
   ]
  },
  {
   "cell_type": "code",
   "execution_count": null,
   "id": "3bf270b6-ca73-43dc-b4e0-181634fd541c",
   "metadata": {},
   "outputs": [],
   "source": [
    "from sklearn.ensemble import GradientBoostingRegressor\n",
    "\n",
    "model_2 = GradientBoostingRegressor()\n",
    "model_2.fit(X_all_train, y_all_total_train)"
   ]
  },
  {
   "cell_type": "code",
   "execution_count": null,
   "id": "cf3e7874-031d-4fe2-b393-8be87de54031",
   "metadata": {},
   "outputs": [],
   "source": [
    "predictions_2 = model_2.predict(X_all_test)\n",
    "\n",
    "print('Predicted labels : ', np.round(predictions_2)[:10])\n",
    "print('Actual labels : ' , y_all_total_test[:10])"
   ]
  },
  {
   "cell_type": "code",
   "execution_count": null,
   "id": "fb729924-3b31-4a67-a1c1-c9289cd32460",
   "metadata": {},
   "outputs": [],
   "source": [
    "mse = mean_squared_error(y_all_total_test, predictions_2)\n",
    "print(\"MSE:\", mse)\n",
    "\n",
    "rmse = np.sqrt(mse)\n",
    "print(\"RMSE:\", rmse)\n",
    "\n",
    "r2 = r2_score(y_all_total_test, predictions_2)\n",
    "print(\"R2:\", r2)"
   ]
  },
  {
   "cell_type": "code",
   "execution_count": null,
   "id": "833b752b-c78c-4fe7-87a5-2508b58cd974",
   "metadata": {},
   "outputs": [],
   "source": [
    "result_df_2020_total_medals['XGB_total_medals_pred'] = np.round(predictions_2)\n",
    "result_df_2020_total_medals.columns"
   ]
  },
  {
   "cell_type": "markdown",
   "id": "0f02fbba-b28e-4b6c-ba51-d821d1c78b58",
   "metadata": {},
   "source": [
    "### Résultats Prédiction tableau du total des médailles par pays"
   ]
  },
  {
   "cell_type": "code",
   "execution_count": null,
   "id": "56e6e75f-d48a-43d8-a39b-0d5bf4c36b18",
   "metadata": {},
   "outputs": [],
   "source": [
    "result_df_2020_total_medals = result_df_2020_total_medals[['pays', 'reglog_total_medals_pred', 'tree_total_medals_pred', 'XGB_total_medals_pred', 'total_medals_truth']]\n",
    "result_df_2020_total_medals"
   ]
  },
  {
   "cell_type": "code",
   "execution_count": null,
   "id": "1552bba0-a93c-4ba1-9ea3-867b0983de76",
   "metadata": {},
   "outputs": [],
   "source": []
  }
 ],
 "metadata": {
  "kernelspec": {
   "display_name": "Python 3 (ipykernel)",
   "language": "python",
   "name": "python3"
  },
  "language_info": {
   "codemirror_mode": {
    "name": "ipython",
    "version": 3
   },
   "file_extension": ".py",
   "mimetype": "text/x-python",
   "name": "python",
   "nbconvert_exporter": "python",
   "pygments_lexer": "ipython3",
   "version": "3.10.11"
  }
 },
 "nbformat": 4,
 "nbformat_minor": 5
}
