{
 "cells": [
  {
   "cell_type": "code",
   "execution_count": null,
   "metadata": {},
   "outputs": [],
   "source": [
    "%pip install -r requirements.txt"
   ]
  },
  {
   "cell_type": "code",
   "execution_count": null,
   "metadata": {},
   "outputs": [],
   "source": [
    "data_medals_path = 'data/olympic_medals.xlsx'\n",
    "data_athletes_path = 'data/olympic_athletes.json'\n",
    "data_results_path = 'data/olympic_results.html'\n",
    "data_hosts_path = 'data/olympic_hosts.xml'"
   ]
  },
  {
   "cell_type": "code",
   "execution_count": null,
   "metadata": {},
   "outputs": [],
   "source": [
    "import pandas as pd\n",
    "\n",
    "tmp_medals = pd.read_excel(data_medals_path)\n",
    "tmp_athletes = pd.read_json(data_athletes_path)\n",
    "tmp_results = pd.read_html(data_results_path)\n",
    "tmp_hosts = pd.read_xml(data_hosts_path)"
   ]
  },
  {
   "cell_type": "code",
   "execution_count": null,
   "metadata": {},
   "outputs": [],
   "source": [
    "df_medals = tmp_medals.copy()\n",
    "df_athletes = tmp_athletes.copy()\n",
    "df_results = tmp_results.copy()\n",
    "df_hosts = tmp_hosts.copy()"
   ]
  },
  {
   "cell_type": "code",
   "execution_count": null,
   "metadata": {},
   "outputs": [],
   "source": [
    "df_medals.head()"
   ]
  },
  {
   "cell_type": "code",
   "execution_count": null,
   "metadata": {},
   "outputs": [],
   "source": [
    "# if athlete_medals is null, fill by 0\n",
    "df_athletes['athlete_medals'] = df_athletes['athlete_medals'].fillna(0)"
   ]
  },
  {
   "cell_type": "code",
   "execution_count": null,
   "metadata": {},
   "outputs": [],
   "source": [
    "df_athletes.head(5)\n",
    "df_athletes.isnull().sum()\n",
    "\n",
    "# first_game laisser tel quel pour voir\n",
    "# athlete_year_birth laisser tel quel pour voir"
   ]
  },
  {
   "cell_type": "code",
   "execution_count": null,
   "metadata": {},
   "outputs": [],
   "source": [
    "df_results[0].head()"
   ]
  },
  {
   "cell_type": "code",
   "execution_count": null,
   "metadata": {},
   "outputs": [],
   "source": [
    "df_hosts.head()"
   ]
  },
  {
   "cell_type": "code",
   "execution_count": null,
   "metadata": {},
   "outputs": [],
   "source": [
    "# get all countries using df_medals\n",
    "countries = df_medals['country_name'].unique()\n",
    "print(len(countries), countries[0:5])"
   ]
  },
  {
   "cell_type": "code",
   "execution_count": null,
   "metadata": {},
   "outputs": [],
   "source": [
    "# get all medal type using df_medals\n",
    "medal_types = df_medals['medal_type'].unique()\n",
    "print(medal_types)"
   ]
  },
  {
   "cell_type": "code",
   "execution_count": null,
   "metadata": {},
   "outputs": [],
   "source": [
    "# get all locations using df_athletes\n",
    "locations = df_athletes['first_game'].unique()\n",
    "print(len(locations), locations[0:5])\n"
   ]
  },
  {
   "cell_type": "code",
   "execution_count": null,
   "metadata": {},
   "outputs": [],
   "source": [
    "# get all athletes using df_athletes\n",
    "athletes = df_athletes['athlete_full_name'].unique()\n",
    "print(len(athletes), athletes[0:5])"
   ]
  },
  {
   "cell_type": "code",
   "execution_count": null,
   "metadata": {},
   "outputs": [],
   "source": [
    "# get all disciplines using df_athletes\n",
    "disciplines = df_medals['discipline_title'].unique()\n",
    "print(len(disciplines), disciplines[0:5])"
   ]
  },
  {
   "cell_type": "code",
   "execution_count": null,
   "metadata": {},
   "outputs": [],
   "source": [
    "# Join the two dataframes with 'athlete_url'\n",
    "df = pd.merge(df_medals, df_athletes, on='athlete_url')\n",
    "df.head()"
   ]
  },
  {
   "cell_type": "code",
   "execution_count": null,
   "metadata": {},
   "outputs": [],
   "source": [
    "# rename 'game_slug' into 'slug_game' (df_hosts)\n",
    "df_hosts.rename(columns={'game_slug': 'slug_game'}, inplace=True)"
   ]
  },
  {
   "cell_type": "code",
   "execution_count": null,
   "metadata": {},
   "outputs": [],
   "source": [
    "# Join the two dataframe (df and df_hosts) with 'slug_game'\n",
    "df = pd.merge(df, df_hosts, on='slug_game')\n",
    "df.head()"
   ]
  },
  {
   "cell_type": "code",
   "execution_count": null,
   "metadata": {},
   "outputs": [],
   "source": [
    "# clean athlete medals\n",
    "\n",
    "# ajouter un colone nb_gold, nb_silver, nb_bronze et les remplir en fonction de (athlete_medals)\n",
    "# \\n\\n\\n1\\n\\nG\\n\\n -> 1 gold medal\n",
    "# \\n\\n\\n1\\n\\nS\\n\\n\\n\\n1\\n\\nB\\n\\n -> 1 silver medal, 1 bronze medal\n",
    "# supprimer les '\\n' puis convertir 2G3S1B en 2 gold, 3 silver, 1 bronze\n",
    "# test = df['athlete_medals'][2]\n",
    "# test = test.replace('\\n', '')\n",
    "# # regex to find all (*d)G in the test\n",
    "# gold = re.findall(r'(\\d)G', test)\n",
    "# silver = re.findall(r'(\\d)S', test)\n",
    "# bronze = re.findall(r'(\\d)B', test)\n",
    "\n",
    "# gold = int(gold[0]) if len(gold) > 0 else 0\n",
    "# silver = int(silver[0]) if len(silver) > 0 else 0\n",
    "# bronze = int(bronze[0]) if len(bronze) > 0 else 0\n",
    "\n",
    "import re\n",
    "\n",
    "def extract_medals(athletes_medals_str) -> str:\n",
    "    if (athletes_medals_str == None):\n",
    "        return 0, 0, 0, 0\n",
    "\n",
    "    athletes_medals_str = athletes_medals_str.replace('\\n', '')\n",
    "    gold = re.findall(r'(\\d)G', athletes_medals_str)\n",
    "    silver = re.findall(r'(\\d)S', athletes_medals_str)\n",
    "    bronze = re.findall(r'(\\d)B', athletes_medals_str)\n",
    "\n",
    "    gold = int(gold[0]) if len(gold) > 0 else 0\n",
    "    silver = int(silver[0]) if len(silver) > 0 else 0\n",
    "    bronze = int(bronze[0]) if len(bronze) > 0 else 0\n",
    "    total = gold + silver + bronze\n",
    "\n",
    "    return total, gold, silver, bronze\n"
   ]
  },
  {
   "cell_type": "code",
   "execution_count": null,
   "metadata": {},
   "outputs": [],
   "source": [
    "df['nb_medals'] = df['athlete_medals'].apply(lambda x: extract_medals(x)[0])\n",
    "df['nb_gold'] = df['athlete_medals'].apply(lambda x: extract_medals(x)[1])\n",
    "df['nb_silver'] = df['athlete_medals'].apply(lambda x: extract_medals(x)[2])\n",
    "df['nb_bronze'] = df['athlete_medals'].apply(lambda x: extract_medals(x)[3])\n",
    "\n",
    "print(len(df))"
   ]
  },
  {
   "cell_type": "code",
   "execution_count": null,
   "metadata": {},
   "outputs": [],
   "source": [
    "# remove 'athlete_medals' column\n",
    "df.drop(columns=['athlete_medals'], inplace=True)\n",
    "# remove 'bio' column\n",
    "df.drop(columns=['bio'], inplace=True)\n",
    "# remove country_code, country_3_letter_code\n",
    "df.drop(columns=['country_code', 'country_3_letter_code'], inplace=True)\n",
    "# remove 'participant_title'\n",
    "df.drop(columns=['participant_title'], inplace=True)\n",
    "# remove 'medal_type'\n",
    "df.drop(columns=['medal_type'], inplace=True)\n",
    "# remove slug_game\n",
    "df.drop(columns=['slug_game'], inplace=True)\n",
    "# remove first column (\tUnnamed: 0\t)\n",
    "df.drop(columns=['Unnamed: 0'], inplace=True)\n",
    "# remove 'athlete_url'\n",
    "df.drop(columns=['athlete_url'], inplace=True)\n",
    "# remove 'athlete_full_name_y'\n",
    "df.drop(columns=['athlete_full_name_y'], inplace=True)\n",
    "\n",
    "# rename 'athlete_full_name_x' to 'athlete_full_name'\n",
    "df.rename(columns={'athlete_full_name_x': 'athlete_full_name'}, inplace=True)\n",
    "\n",
    "# drop Winter\n",
    "df = df[df['game_season'] != 'Winter']\n",
    "\n",
    "# drop 'game_season'\n",
    "df.drop(columns=['game_season'], inplace=True)\n",
    "\n",
    "# drop 'game_name'\n",
    "df.drop(columns=['game_name'], inplace=True)\n",
    "\n",
    "df.head()"
   ]
  },
  {
   "cell_type": "code",
   "execution_count": null,
   "metadata": {},
   "outputs": [],
   "source": [
    "print(len(df))"
   ]
  },
  {
   "cell_type": "markdown",
   "metadata": {},
   "source": [
    "# A faire\n",
    "* Trier le dataframe par pays (faire un check des pays et regrouper en fonctions de leurs differents noms dans le temps)\n",
    "* Trier le dataframe par dicipline\n",
    "* Trier par athlètes ?"
   ]
  },
  {
   "cell_type": "code",
   "execution_count": null,
   "metadata": {},
   "outputs": [],
   "source": [
    "df.to_excel('olympic_data.xlsx', index=False)"
   ]
  }
 ],
 "metadata": {
  "kernelspec": {
   "display_name": ".venv",
   "language": "python",
   "name": "python3"
  },
  "language_info": {
   "codemirror_mode": {
    "name": "ipython",
    "version": 3
   },
   "file_extension": ".py",
   "mimetype": "text/x-python",
   "name": "python",
   "nbconvert_exporter": "python",
   "pygments_lexer": "ipython3",
   "version": "3.11.9"
  }
 },
 "nbformat": 4,
 "nbformat_minor": 2
}
