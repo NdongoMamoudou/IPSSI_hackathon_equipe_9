{
 "cells": [
  {
   "cell_type": "code",
   "execution_count": 1,
   "metadata": {},
   "outputs": [
    {
     "name": "stdout",
     "output_type": "stream",
     "text": [
      "Requirement already satisfied: sqlalchemy in c:\\users\\tinad\\appdata\\local\\packages\\pythonsoftwarefoundation.python.3.11_qbz5n2kfra8p0\\localcache\\local-packages\\python311\\site-packages (2.0.30)\n",
      "Requirement already satisfied: typing-extensions>=4.6.0 in c:\\users\\tinad\\appdata\\local\\packages\\pythonsoftwarefoundation.python.3.11_qbz5n2kfra8p0\\localcache\\local-packages\\python311\\site-packages (from sqlalchemy) (4.12.0)\n",
      "Requirement already satisfied: greenlet!=0.4.17 in c:\\users\\tinad\\appdata\\local\\packages\\pythonsoftwarefoundation.python.3.11_qbz5n2kfra8p0\\localcache\\local-packages\\python311\\site-packages (from sqlalchemy) (3.0.3)\n",
      "Note: you may need to restart the kernel to use updated packages.\n"
     ]
    }
   ],
   "source": [
    "%pip install sqlalchemy"
   ]
  },
  {
   "cell_type": "code",
   "execution_count": 2,
   "metadata": {},
   "outputs": [
    {
     "name": "stdout",
     "output_type": "stream",
     "text": [
      "Note: you may need to restart the kernel to use updated packages.\n"
     ]
    },
    {
     "name": "stderr",
     "output_type": "stream",
     "text": [
      "ERROR: Could not find a version that satisfies the requirement MySQLdb (from versions: none)\n",
      "ERROR: No matching distribution found for MySQLdb\n"
     ]
    }
   ],
   "source": [
    "%pip install MySQLdb"
   ]
  },
  {
   "cell_type": "code",
   "execution_count": 3,
   "metadata": {},
   "outputs": [
    {
     "name": "stdout",
     "output_type": "stream",
     "text": [
      "Requirement already satisfied: mysqlclient in c:\\users\\tinad\\appdata\\local\\packages\\pythonsoftwarefoundation.python.3.11_qbz5n2kfra8p0\\localcache\\local-packages\\python311\\site-packages (2.2.4)\n",
      "Note: you may need to restart the kernel to use updated packages.\n"
     ]
    }
   ],
   "source": [
    "%pip install mysqlclient"
   ]
  },
  {
   "cell_type": "code",
   "execution_count": 9,
   "metadata": {},
   "outputs": [],
   "source": [
    "import pandas as pd\n",
    "df_merge = pd.read_excel('data/olympic_final.xlsx')\n",
    "\n"
   ]
  },
  {
   "cell_type": "code",
   "execution_count": 10,
   "metadata": {},
   "outputs": [
    {
     "data": {
      "text/html": [
       "<div>\n",
       "<style scoped>\n",
       "    .dataframe tbody tr th:only-of-type {\n",
       "        vertical-align: middle;\n",
       "    }\n",
       "\n",
       "    .dataframe tbody tr th {\n",
       "        vertical-align: top;\n",
       "    }\n",
       "\n",
       "    .dataframe thead th {\n",
       "        text-align: right;\n",
       "    }\n",
       "</style>\n",
       "<table border=\"1\" class=\"dataframe\">\n",
       "  <thead>\n",
       "    <tr style=\"text-align: right;\">\n",
       "      <th></th>\n",
       "      <th>discipline_title</th>\n",
       "      <th>event_title</th>\n",
       "      <th>event_gender</th>\n",
       "      <th>participant_type</th>\n",
       "      <th>athlete_full_name</th>\n",
       "      <th>country_name</th>\n",
       "      <th>games_participations</th>\n",
       "      <th>athlete_year_birth</th>\n",
       "      <th>nb_gold</th>\n",
       "      <th>nb_silver</th>\n",
       "      <th>nb_bronze</th>\n",
       "      <th>Medals</th>\n",
       "      <th>game_end_date</th>\n",
       "      <th>game_start_date</th>\n",
       "      <th>game_location</th>\n",
       "      <th>game_season</th>\n",
       "      <th>game_year</th>\n",
       "      <th>city_location</th>\n",
       "    </tr>\n",
       "  </thead>\n",
       "  <tbody>\n",
       "    <tr>\n",
       "      <th>0</th>\n",
       "      <td>Curling</td>\n",
       "      <td>Mixed Doubles</td>\n",
       "      <td>Mixed</td>\n",
       "      <td>GameTeam</td>\n",
       "      <td>Stefania CONSTANTINI</td>\n",
       "      <td>Italy</td>\n",
       "      <td>1</td>\n",
       "      <td>1999</td>\n",
       "      <td>1</td>\n",
       "      <td>0</td>\n",
       "      <td>0</td>\n",
       "      <td>1</td>\n",
       "      <td>2022-02-20T12:00:00Z</td>\n",
       "      <td>2022-02-04T15:00:00Z</td>\n",
       "      <td>China</td>\n",
       "      <td>Winter</td>\n",
       "      <td>2022</td>\n",
       "      <td>Beijing</td>\n",
       "    </tr>\n",
       "    <tr>\n",
       "      <th>1</th>\n",
       "      <td>Curling</td>\n",
       "      <td>Mixed Doubles</td>\n",
       "      <td>Mixed</td>\n",
       "      <td>GameTeam</td>\n",
       "      <td>Almida DE VAL</td>\n",
       "      <td>Sweden</td>\n",
       "      <td>1</td>\n",
       "      <td>1997</td>\n",
       "      <td>0</td>\n",
       "      <td>0</td>\n",
       "      <td>1</td>\n",
       "      <td>1</td>\n",
       "      <td>2022-02-20T12:00:00Z</td>\n",
       "      <td>2022-02-04T15:00:00Z</td>\n",
       "      <td>China</td>\n",
       "      <td>Winter</td>\n",
       "      <td>2022</td>\n",
       "      <td>Beijing</td>\n",
       "    </tr>\n",
       "    <tr>\n",
       "      <th>2</th>\n",
       "      <td>Curling</td>\n",
       "      <td>Mixed Doubles</td>\n",
       "      <td>Mixed</td>\n",
       "      <td>GameTeam</td>\n",
       "      <td>Oskar ERIKSSON</td>\n",
       "      <td>Sweden</td>\n",
       "      <td>4</td>\n",
       "      <td>1991</td>\n",
       "      <td>1</td>\n",
       "      <td>1</td>\n",
       "      <td>2</td>\n",
       "      <td>4</td>\n",
       "      <td>2022-02-20T12:00:00Z</td>\n",
       "      <td>2022-02-04T15:00:00Z</td>\n",
       "      <td>China</td>\n",
       "      <td>Winter</td>\n",
       "      <td>2022</td>\n",
       "      <td>Beijing</td>\n",
       "    </tr>\n",
       "    <tr>\n",
       "      <th>3</th>\n",
       "      <td>Freestyle Skiing</td>\n",
       "      <td>Men's Freeski Big Air</td>\n",
       "      <td>Men</td>\n",
       "      <td>Athlete</td>\n",
       "      <td>Birk RUUD</td>\n",
       "      <td>Norway</td>\n",
       "      <td>1</td>\n",
       "      <td>2000</td>\n",
       "      <td>1</td>\n",
       "      <td>0</td>\n",
       "      <td>0</td>\n",
       "      <td>1</td>\n",
       "      <td>2022-02-20T12:00:00Z</td>\n",
       "      <td>2022-02-04T15:00:00Z</td>\n",
       "      <td>China</td>\n",
       "      <td>Winter</td>\n",
       "      <td>2022</td>\n",
       "      <td>Beijing</td>\n",
       "    </tr>\n",
       "    <tr>\n",
       "      <th>4</th>\n",
       "      <td>Freestyle Skiing</td>\n",
       "      <td>Men's Freeski Big Air</td>\n",
       "      <td>Men</td>\n",
       "      <td>Athlete</td>\n",
       "      <td>Colby STEVENSON</td>\n",
       "      <td>USA</td>\n",
       "      <td>1</td>\n",
       "      <td>1997</td>\n",
       "      <td>0</td>\n",
       "      <td>1</td>\n",
       "      <td>0</td>\n",
       "      <td>1</td>\n",
       "      <td>2022-02-20T12:00:00Z</td>\n",
       "      <td>2022-02-04T15:00:00Z</td>\n",
       "      <td>China</td>\n",
       "      <td>Winter</td>\n",
       "      <td>2022</td>\n",
       "      <td>Beijing</td>\n",
       "    </tr>\n",
       "  </tbody>\n",
       "</table>\n",
       "</div>"
      ],
      "text/plain": [
       "   discipline_title            event_title event_gender participant_type  \\\n",
       "0           Curling          Mixed Doubles        Mixed         GameTeam   \n",
       "1           Curling          Mixed Doubles        Mixed         GameTeam   \n",
       "2           Curling          Mixed Doubles        Mixed         GameTeam   \n",
       "3  Freestyle Skiing  Men's Freeski Big Air          Men          Athlete   \n",
       "4  Freestyle Skiing  Men's Freeski Big Air          Men          Athlete   \n",
       "\n",
       "      athlete_full_name country_name  games_participations  \\\n",
       "0  Stefania CONSTANTINI        Italy                     1   \n",
       "1         Almida DE VAL       Sweden                     1   \n",
       "2        Oskar ERIKSSON       Sweden                     4   \n",
       "3             Birk RUUD       Norway                     1   \n",
       "4       Colby STEVENSON          USA                     1   \n",
       "\n",
       "   athlete_year_birth  nb_gold  nb_silver  nb_bronze  Medals  \\\n",
       "0                1999        1          0          0       1   \n",
       "1                1997        0          0          1       1   \n",
       "2                1991        1          1          2       4   \n",
       "3                2000        1          0          0       1   \n",
       "4                1997        0          1          0       1   \n",
       "\n",
       "          game_end_date       game_start_date game_location game_season  \\\n",
       "0  2022-02-20T12:00:00Z  2022-02-04T15:00:00Z         China      Winter   \n",
       "1  2022-02-20T12:00:00Z  2022-02-04T15:00:00Z         China      Winter   \n",
       "2  2022-02-20T12:00:00Z  2022-02-04T15:00:00Z         China      Winter   \n",
       "3  2022-02-20T12:00:00Z  2022-02-04T15:00:00Z         China      Winter   \n",
       "4  2022-02-20T12:00:00Z  2022-02-04T15:00:00Z         China      Winter   \n",
       "\n",
       "   game_year city_location  \n",
       "0       2022       Beijing  \n",
       "1       2022       Beijing  \n",
       "2       2022       Beijing  \n",
       "3       2022       Beijing  \n",
       "4       2022       Beijing  "
      ]
     },
     "execution_count": 10,
     "metadata": {},
     "output_type": "execute_result"
    }
   ],
   "source": [
    "df_merge.head()"
   ]
  },
  {
   "cell_type": "code",
   "execution_count": 11,
   "metadata": {},
   "outputs": [],
   "source": [
    "table_athletes = df_merge[['athlete_full_name', 'athlete_year_birth']]"
   ]
  },
  {
   "cell_type": "code",
   "execution_count": 12,
   "metadata": {},
   "outputs": [
    {
     "data": {
      "text/plain": [
       "13818"
      ]
     },
     "execution_count": 12,
     "metadata": {},
     "output_type": "execute_result"
    }
   ],
   "source": [
    "table_athletes.duplicated().sum()"
   ]
  },
  {
   "cell_type": "code",
   "execution_count": 13,
   "metadata": {},
   "outputs": [
    {
     "name": "stderr",
     "output_type": "stream",
     "text": [
      "C:\\Users\\tinad\\AppData\\Local\\Temp\\ipykernel_5116\\1105030447.py:1: SettingWithCopyWarning: \n",
      "A value is trying to be set on a copy of a slice from a DataFrame\n",
      "\n",
      "See the caveats in the documentation: https://pandas.pydata.org/pandas-docs/stable/user_guide/indexing.html#returning-a-view-versus-a-copy\n",
      "  table_athletes.drop_duplicates(inplace=True)\n"
     ]
    }
   ],
   "source": [
    "table_athletes.drop_duplicates(inplace=True)"
   ]
  },
  {
   "cell_type": "code",
   "execution_count": 14,
   "metadata": {},
   "outputs": [],
   "source": [
    "table_athletes.columns = ['full_name', 'birth']"
   ]
  },
  {
   "cell_type": "code",
   "execution_count": 15,
   "metadata": {},
   "outputs": [
    {
     "name": "stdout",
     "output_type": "stream",
     "text": [
      "DataFrame sauvegardé avec succès dans la table 'athlete'.\n"
     ]
    }
   ],
   "source": [
    "from sqlalchemy import create_engine\n",
    "\n",
    "# Connexion à la base de données MySQL\n",
    "# Remplacez 'localhost' par le nom d'hôte ou l'adresse IP de votre serveur MySQL\n",
    "engine = create_engine('mysql://root:@localhost/hackathon')\n",
    "\n",
    "# Sauvegarde du DataFrame dans la table MySQL\n",
    "try:\n",
    "    table_athletes.to_sql('athlete', con=engine, if_exists='append', index=False)\n",
    "    print(\"DataFrame sauvegardé avec succès dans la table 'athlete'.\")\n",
    "except Exception as e:\n",
    "    print(f\"Une erreur s'est produite : {e}\")\n",
    "finally:\n",
    "    # Fermer la connexion à la base de données\n",
    "    engine.dispose()"
   ]
  },
  {
   "cell_type": "code",
   "execution_count": 16,
   "metadata": {},
   "outputs": [],
   "source": [
    "table_country = df_merge[['country_name']]"
   ]
  },
  {
   "cell_type": "code",
   "execution_count": 17,
   "metadata": {},
   "outputs": [],
   "source": [
    "table_country.columns = ['name']"
   ]
  },
  {
   "cell_type": "code",
   "execution_count": 18,
   "metadata": {},
   "outputs": [
    {
     "name": "stderr",
     "output_type": "stream",
     "text": [
      "C:\\Users\\tinad\\AppData\\Local\\Temp\\ipykernel_5116\\1186006666.py:1: SettingWithCopyWarning: \n",
      "A value is trying to be set on a copy of a slice from a DataFrame\n",
      "\n",
      "See the caveats in the documentation: https://pandas.pydata.org/pandas-docs/stable/user_guide/indexing.html#returning-a-view-versus-a-copy\n",
      "  table_country.drop_duplicates(inplace=True)\n"
     ]
    }
   ],
   "source": [
    "table_country.drop_duplicates(inplace=True)"
   ]
  },
  {
   "cell_type": "code",
   "execution_count": 19,
   "metadata": {},
   "outputs": [
    {
     "data": {
      "text/plain": [
       "0"
      ]
     },
     "execution_count": 19,
     "metadata": {},
     "output_type": "execute_result"
    }
   ],
   "source": [
    "table_country.duplicated().sum()"
   ]
  },
  {
   "cell_type": "code",
   "execution_count": 21,
   "metadata": {},
   "outputs": [
    {
     "name": "stdout",
     "output_type": "stream",
     "text": [
      "DataFrame sauvegardé avec succès dans la table 'country'.\n"
     ]
    }
   ],
   "source": [
    "from sqlalchemy import create_engine\n",
    "engine = create_engine('mysql://root:@localhost/hackathon')\n",
    "\n",
    "# Sauvegarde du DataFrame dans la table MySQL\n",
    "try:\n",
    "    table_country.to_sql('country', con=engine, if_exists='append', index=False)\n",
    "    print(\"DataFrame sauvegardé avec succès dans la table 'country'.\")\n",
    "except Exception as e:\n",
    "    print(f\"Une erreur s'est produite : {e}\")\n",
    "finally:\n",
    "    # Fermer la connexion à la base de données\n",
    "    engine.dispose()"
   ]
  },
  {
   "cell_type": "code",
   "execution_count": 22,
   "metadata": {},
   "outputs": [],
   "source": [
    "table_games =  df_merge[['game_location','game_year']]"
   ]
  },
  {
   "cell_type": "code",
   "execution_count": 23,
   "metadata": {},
   "outputs": [
    {
     "name": "stderr",
     "output_type": "stream",
     "text": [
      "C:\\Users\\tinad\\AppData\\Local\\Temp\\ipykernel_5116\\237488133.py:1: SettingWithCopyWarning: \n",
      "A value is trying to be set on a copy of a slice from a DataFrame\n",
      "\n",
      "See the caveats in the documentation: https://pandas.pydata.org/pandas-docs/stable/user_guide/indexing.html#returning-a-view-versus-a-copy\n",
      "  table_games.drop_duplicates(inplace=True)\n"
     ]
    }
   ],
   "source": [
    "table_games.drop_duplicates(inplace=True)"
   ]
  },
  {
   "cell_type": "code",
   "execution_count": 24,
   "metadata": {},
   "outputs": [
    {
     "data": {
      "text/plain": [
       "0"
      ]
     },
     "execution_count": 24,
     "metadata": {},
     "output_type": "execute_result"
    }
   ],
   "source": [
    "table_games.duplicated().sum()"
   ]
  },
  {
   "cell_type": "code",
   "execution_count": 25,
   "metadata": {},
   "outputs": [],
   "source": [
    "table_games.columns = ['name','year']"
   ]
  },
  {
   "cell_type": "code",
   "execution_count": 26,
   "metadata": {},
   "outputs": [
    {
     "data": {
      "text/plain": [
       "0"
      ]
     },
     "execution_count": 26,
     "metadata": {},
     "output_type": "execute_result"
    }
   ],
   "source": [
    "table_games.duplicated().sum()"
   ]
  },
  {
   "cell_type": "code",
   "execution_count": 27,
   "metadata": {},
   "outputs": [
    {
     "name": "stdout",
     "output_type": "stream",
     "text": [
      "DataFrame sauvegardé avec succès dans la table 'games'.\n"
     ]
    }
   ],
   "source": [
    "from sqlalchemy import create_engine\n",
    "\n",
    "# Connexion à la base de données MySQL\n",
    "# Remplacez 'localhost' par le nom d'hôte ou l'adresse IP de votre serveur MySQL\n",
    "engine = create_engine('mysql://root:@localhost/hackathon')\n",
    "\n",
    "# Sauvegarde du DataFrame dans la table MySQL\n",
    "try:\n",
    "    table_games.to_sql('game', con=engine, if_exists='append', index=False)\n",
    "    print(\"DataFrame sauvegardé avec succès dans la table 'games'.\")\n",
    "except Exception as e:\n",
    "    print(f\"Une erreur s'est produite : {e}\")\n",
    "finally:\n",
    "    # Fermer la connexion à la base de données\n",
    "    engine.dispose()"
   ]
  },
  {
   "cell_type": "code",
   "execution_count": 28,
   "metadata": {},
   "outputs": [],
   "source": [
    "table_participations = df_merge[['athlete_full_name','country_name','game_location','game_year','nb_gold',\t'nb_silver', 'nb_bronze','Medals']]"
   ]
  },
  {
   "cell_type": "code",
   "execution_count": 29,
   "metadata": {},
   "outputs": [
    {
     "data": {
      "text/html": [
       "<div>\n",
       "<style scoped>\n",
       "    .dataframe tbody tr th:only-of-type {\n",
       "        vertical-align: middle;\n",
       "    }\n",
       "\n",
       "    .dataframe tbody tr th {\n",
       "        vertical-align: top;\n",
       "    }\n",
       "\n",
       "    .dataframe thead th {\n",
       "        text-align: right;\n",
       "    }\n",
       "</style>\n",
       "<table border=\"1\" class=\"dataframe\">\n",
       "  <thead>\n",
       "    <tr style=\"text-align: right;\">\n",
       "      <th></th>\n",
       "      <th>athlete_full_name</th>\n",
       "      <th>country_name</th>\n",
       "      <th>game_location</th>\n",
       "      <th>game_year</th>\n",
       "      <th>nb_gold</th>\n",
       "      <th>nb_silver</th>\n",
       "      <th>nb_bronze</th>\n",
       "      <th>Medals</th>\n",
       "    </tr>\n",
       "  </thead>\n",
       "  <tbody>\n",
       "    <tr>\n",
       "      <th>0</th>\n",
       "      <td>Stefania CONSTANTINI</td>\n",
       "      <td>Italy</td>\n",
       "      <td>China</td>\n",
       "      <td>2022</td>\n",
       "      <td>1</td>\n",
       "      <td>0</td>\n",
       "      <td>0</td>\n",
       "      <td>1</td>\n",
       "    </tr>\n",
       "    <tr>\n",
       "      <th>1</th>\n",
       "      <td>Almida DE VAL</td>\n",
       "      <td>Sweden</td>\n",
       "      <td>China</td>\n",
       "      <td>2022</td>\n",
       "      <td>0</td>\n",
       "      <td>0</td>\n",
       "      <td>1</td>\n",
       "      <td>1</td>\n",
       "    </tr>\n",
       "    <tr>\n",
       "      <th>2</th>\n",
       "      <td>Oskar ERIKSSON</td>\n",
       "      <td>Sweden</td>\n",
       "      <td>China</td>\n",
       "      <td>2022</td>\n",
       "      <td>1</td>\n",
       "      <td>1</td>\n",
       "      <td>2</td>\n",
       "      <td>4</td>\n",
       "    </tr>\n",
       "    <tr>\n",
       "      <th>3</th>\n",
       "      <td>Birk RUUD</td>\n",
       "      <td>Norway</td>\n",
       "      <td>China</td>\n",
       "      <td>2022</td>\n",
       "      <td>1</td>\n",
       "      <td>0</td>\n",
       "      <td>0</td>\n",
       "      <td>1</td>\n",
       "    </tr>\n",
       "    <tr>\n",
       "      <th>4</th>\n",
       "      <td>Colby STEVENSON</td>\n",
       "      <td>USA</td>\n",
       "      <td>China</td>\n",
       "      <td>2022</td>\n",
       "      <td>0</td>\n",
       "      <td>1</td>\n",
       "      <td>0</td>\n",
       "      <td>1</td>\n",
       "    </tr>\n",
       "  </tbody>\n",
       "</table>\n",
       "</div>"
      ],
      "text/plain": [
       "      athlete_full_name country_name game_location  game_year  nb_gold  \\\n",
       "0  Stefania CONSTANTINI        Italy         China       2022        1   \n",
       "1         Almida DE VAL       Sweden         China       2022        0   \n",
       "2        Oskar ERIKSSON       Sweden         China       2022        1   \n",
       "3             Birk RUUD       Norway         China       2022        1   \n",
       "4       Colby STEVENSON          USA         China       2022        0   \n",
       "\n",
       "   nb_silver  nb_bronze  Medals  \n",
       "0          0          0       1  \n",
       "1          0          1       1  \n",
       "2          1          2       4  \n",
       "3          0          0       1  \n",
       "4          1          0       1  "
      ]
     },
     "execution_count": 29,
     "metadata": {},
     "output_type": "execute_result"
    }
   ],
   "source": [
    "table_participations.head()"
   ]
  },
  {
   "cell_type": "code",
   "execution_count": 30,
   "metadata": {},
   "outputs": [
    {
     "data": {
      "text/plain": [
       "0"
      ]
     },
     "execution_count": 30,
     "metadata": {},
     "output_type": "execute_result"
    }
   ],
   "source": [
    "table_athletes.duplicated().sum()"
   ]
  },
  {
   "cell_type": "code",
   "execution_count": 31,
   "metadata": {},
   "outputs": [],
   "source": [
    "table_participations.columns = ['athlete_name','country','game_name_location','game_year','nb_gold',\t'nb_silver', 'nb_bronze','total']"
   ]
  },
  {
   "cell_type": "code",
   "execution_count": 32,
   "metadata": {},
   "outputs": [
    {
     "name": "stdout",
     "output_type": "stream",
     "text": [
      "DataFrame sauvegardé avec succès dans la table 'participation'.\n"
     ]
    }
   ],
   "source": [
    "from sqlalchemy import create_engine\n",
    "\n",
    "# Connexion à la base de données MySQL\n",
    "# Remplacez 'localhost' par le nom d'hôte ou l'adresse IP de votre serveur MySQL\n",
    "engine = create_engine('mysql://root:@localhost/hackathon')\n",
    "\n",
    "# Sauvegarde du DataFrame dans la table MySQL\n",
    "try:\n",
    "    table_participations.to_sql('participation', con=engine, if_exists='append', index=False)\n",
    "    print(\"DataFrame sauvegardé avec succès dans la table 'participation'.\")\n",
    "except Exception as e:\n",
    "    print(f\"Une erreur s'est produite : {e}\")\n",
    "finally:\n",
    "    # Fermer la connexion à la base de données\n",
    "    engine.dispose()"
   ]
  },
  {
   "cell_type": "code",
   "execution_count": null,
   "metadata": {},
   "outputs": [],
   "source": []
  }
 ],
 "metadata": {
  "kernelspec": {
   "display_name": "Python 3",
   "language": "python",
   "name": "python3"
  },
  "language_info": {
   "codemirror_mode": {
    "name": "ipython",
    "version": 3
   },
   "file_extension": ".py",
   "mimetype": "text/x-python",
   "name": "python",
   "nbconvert_exporter": "python",
   "pygments_lexer": "ipython3",
   "version": "3.11.9"
  }
 },
 "nbformat": 4,
 "nbformat_minor": 2
}
